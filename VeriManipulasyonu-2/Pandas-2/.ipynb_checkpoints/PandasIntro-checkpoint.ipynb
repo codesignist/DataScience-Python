{
 "cells": [
  {
   "cell_type": "markdown",
   "metadata": {},
   "source": [
    "# Pandas Giriş"
   ]
  },
  {
   "cell_type": "markdown",
   "metadata": {},
   "source": [
    "* **İşin cebir kısmı NumPy ile gerçekleşir**\n",
    "* **İşin modelleme makine öğrenmesi kısmı pandas ile gerçekleşir**\n",
    "* **Veri ön işleme, veri görselleştirme, yapısal değişkenler vs. pandas tarafında yapılır**\n",
    "* **Pandas ile yaptığımız bu işlemler zaten arka tarafta NumPy ile yapılır**"
   ]
  },
  {
   "cell_type": "markdown",
   "metadata": {},
   "source": [
    "## Pandas Özellikleri\n",
    "* **Ekonometrik ve finansal çalışmalar için doğmuştur**\n",
    "* **R DataFrame yapısını Python dünyasına taşımış ve DataFrameler üzerinde hızlı ve etkili çalışabilmeyi sağlamıştır**\n",
    "* **Bir çok farklı veri tipini okuma ve yazma imkanı sağlar**\n",
    "* **Pandas Numpy'ın alternatifi değil, NumPy'ın özelliklerini kullanan ve bunları genişleten bir kütüphanedir**"
   ]
  },
  {
   "cell_type": "code",
   "execution_count": null,
   "metadata": {},
   "outputs": [],
   "source": []
  }
 ],
 "metadata": {
  "kernelspec": {
   "display_name": "Python 3",
   "language": "python",
   "name": "python3"
  },
  "language_info": {
   "codemirror_mode": {
    "name": "ipython",
    "version": 3
   },
   "file_extension": ".py",
   "mimetype": "text/x-python",
   "name": "python",
   "nbconvert_exporter": "python",
   "pygments_lexer": "ipython3",
   "version": "3.7.3"
  }
 },
 "nbformat": 4,
 "nbformat_minor": 2
}
