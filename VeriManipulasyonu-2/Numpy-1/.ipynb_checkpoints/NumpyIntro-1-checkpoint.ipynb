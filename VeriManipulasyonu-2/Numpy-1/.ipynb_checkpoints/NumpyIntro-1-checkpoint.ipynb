{
 "cells": [
  {
   "cell_type": "markdown",
   "metadata": {},
   "source": [
    "# NumPy Giriş"
   ]
  },
  {
   "cell_type": "code",
   "execution_count": null,
   "metadata": {},
   "outputs": [],
   "source": [
    "\"\"\"\n",
    "Numerical Python -> Numpy\n",
    "Bilimsel hesaplamalar için kullanılır\n",
    "Arrayler / çok boyutlu arrayler ve matrisler üzerinde yüksek performanslı çalışma imkanı\n",
    "Listelere benzerdir, farkı; verimli veri saklama ve vektörel operasyonlardır\n",
    "JupyterLab Ufak İncelikler\n",
    "# Ana Başlık\n",
    "## Alt Başlık\n",
    "\"\"\""
   ]
  },
  {
   "cell_type": "code",
   "execution_count": null,
   "metadata": {},
   "outputs": [],
   "source": [
    "import numpy as np # numpy kütüphanesini dahil ettik"
   ]
  },
  {
   "cell_type": "code",
   "execution_count": null,
   "metadata": {},
   "outputs": [],
   "source": [
    "?np # notebook içerisinde dökümantasyona çok rahat ulaşabiliriz"
   ]
  },
  {
   "cell_type": "code",
   "execution_count": null,
   "metadata": {},
   "outputs": [],
   "source": []
  }
 ],
 "metadata": {
  "kernelspec": {
   "display_name": "Python 3",
   "language": "python",
   "name": "python3"
  },
  "language_info": {
   "codemirror_mode": {
    "name": "ipython",
    "version": 3
   },
   "file_extension": ".py",
   "mimetype": "text/x-python",
   "name": "python",
   "nbconvert_exporter": "python",
   "pygments_lexer": "ipython3",
   "version": "3.7.3"
  }
 },
 "nbformat": 4,
 "nbformat_minor": 2
}
