{
 "cells": [
  {
   "cell_type": "markdown",
   "metadata": {},
   "source": [
    "# Keşifçi Veri Analizi ve Veri Görselleştirme"
   ]
  },
  {
   "cell_type": "markdown",
   "metadata": {},
   "source": [
    "## Keşifçi Veri Analizi Nedir?\n",
    "* Betimsel istatistikler, veri görselleştirme teknikleri ve iş çıktısı hedefiyle veri üzerinde çalışmaktır.\n",
    "* Veri bilimcinin özgürce çalışabildiği, söz konusu olmayan yeni bulgulara ulaşabileceği, yeni iş fikirleri, yeni işe yarar sonuçlara ulaşabileceği, sorular sorarak, hipotezler kurarak ilerlediği süreçtir."
   ]
  },
  {
   "cell_type": "markdown",
   "metadata": {},
   "source": [
    "## Büyük Resmi Görmek\n",
    "* Basit bir grafik, diğer araçlardan çok daha fazla bilgi sunabilir.\n",
    "     -John Tukey\n",
    "* 4 kör adamın fili bir yerlerinden tutması ve hepsinin farklı bir şey düşünmesi örneği.(fakat hepsi **aynı** 'FİL' hakkında fikir yürütüyor)"
   ]
  },
  {
   "cell_type": "markdown",
   "metadata": {},
   "source": [
    "## Python'da Veri Görselleştirme\n",
    "* Matplotlib -> python veri görselleştirme kütüphanelerinin dedesidir. Low level interface\n",
    "* Pandas  -> Matplotlib üzerine inşa edilmiştir. High level interface\n",
    "* Seaborn -> High level interface\n",
    "* ggplot  -> High level interface\n",
    "* Bokeh   -> İnteraktif bir kütüphanedir. **Büyük ve Akan veri setleri** üzerinde interaktif bir görselleştirmeye sahiptir. En önemli özelliği bu işlemleri modern web browserlarda gerçekleştirme imkanı sağlar.\n",
    "* Plot.ly -> İnteraktif veri görselleştirme imkanı sağlar. Arkasında bir şirket vardır."
   ]
  },
  {
   "cell_type": "code",
   "execution_count": null,
   "metadata": {},
   "outputs": [],
   "source": []
  }
 ],
 "metadata": {
  "kernelspec": {
   "display_name": "Python 3",
   "language": "python",
   "name": "python3"
  },
  "language_info": {
   "codemirror_mode": {
    "name": "ipython",
    "version": 3
   },
   "file_extension": ".py",
   "mimetype": "text/x-python",
   "name": "python",
   "nbconvert_exporter": "python",
   "pygments_lexer": "ipython3",
   "version": "3.7.3"
  }
 },
 "nbformat": 4,
 "nbformat_minor": 2
}
